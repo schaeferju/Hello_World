{
 "cells": [
  {
   "cell_type": "markdown",
   "metadata": {},
   "source": [
    "001 Hello World!"
   ]
  },
  {
   "cell_type": "code",
   "execution_count": null,
   "metadata": {},
   "outputs": [],
   "source": [
    "print(\"Hello World!\")"
   ]
  },
  {
   "cell_type": "markdown",
   "metadata": {},
   "source": [
    "002 Hello World erweitert\n",
    "(\"basic\")"
   ]
  },
  {
   "cell_type": "code",
   "execution_count": null,
   "metadata": {},
   "outputs": [],
   "source": [
    "print (\"Hello World!\\n\")\n",
    "print (\"Mein Name ist Julia Schäfer und ich bin aktuell 24 Jahrte alt.\\n\")\n",
    "print (\"Erfahrungen im bereich Programmierung stammen bei mir \\n a) aus meiner Schulzeit, besonders den Schülerinformatikcamps \\n b) von den Erfahrungen die ich während meiner Ausbildung sammeln konnte \\n c) meinem generellen Interesse dem Thema gegenüber und damit verbundenen kleineren Experimenten auch innerhalb von Hobbies\")\n",
    "print (\"\\nEines der Hobbies, das von Programmier-Skills profitiert, wäre Cosplay.\")\n",
    "print (\"\\nFür einen akuten Fall von 'Was zum Geier ist Cosplay?' hatte ChatGPT folgende Antwort parat: \\n\")\n",
    "print (\"Cosplay ist eine Kombination aus den Wörtern „costume“ (Kostüm) und „play“ (Spiel). \\nEs bezeichnet das kreative Hobby, bei dem Menschen in Kostümen und mit Requisiten auftreten, die Figuren aus Comics, Filmen, Videospielen oder anderen Medien darstellen. \\nDie Cosplayer übernehmen oft die Rollen ihrer Lieblingscharaktere und stellen diese auf Conventions, bei Fotoshootings oder in sozialen Medien dar. \\nCosplay geht oft über das bloße Tragen eines Kostüms hinaus. \\nEs beinhaltet auch das Eintauchen in die Persönlichkeit und das Verhalten des Charakters, was oft zu einer tiefergehenden Auseinandersetzung mit der dargestellten Figur führt. \\nViele Cosplayer basteln ihre Kostüme selbst und verwenden dabei eine Vielzahl von Materialien und Techniken, um so authentisch wie möglich auszusehen. \\nEs ist eine Form der Selbstdarstellung und Kreativität, die weltweit in der Popkultur verankert ist.\")\n",
    "print (\"\\nIm Vergleich dazu ist eines meiner anderen Hobbies eher weniger digital unterwegs. \\nDabei handelt es sich um das Singen im Chor (＠＾０＾)♪♪♪♪♪.\")"
   ]
  }
 ],
 "metadata": {
  "kernelspec": {
   "display_name": "Python 3",
   "language": "python",
   "name": "python3"
  },
  "language_info": {
   "codemirror_mode": {
    "name": "ipython",
    "version": 3
   },
   "file_extension": ".py",
   "mimetype": "text/x-python",
   "name": "python",
   "nbconvert_exporter": "python",
   "pygments_lexer": "ipython3",
   "version": "3.12.6"
  }
 },
 "nbformat": 4,
 "nbformat_minor": 2
}
